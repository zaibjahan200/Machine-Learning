{
  "nbformat": 4,
  "nbformat_minor": 0,
  "metadata": {
    "colab": {
      "provenance": [],
      "toc_visible": true,
      "authorship_tag": "ABX9TyNhfVwZxxZ9Lvaw8HKW7imy",
      "include_colab_link": true
    },
    "kernelspec": {
      "name": "python3",
      "display_name": "Python 3"
    },
    "language_info": {
      "name": "python"
    }
  },
  "cells": [
    {
      "cell_type": "markdown",
      "metadata": {
        "id": "view-in-github",
        "colab_type": "text"
      },
      "source": [
        "<a href=\"https://colab.research.google.com/github/zaibjahan200/Machine-Learning/blob/master/Classification_and_its_Types.ipynb\" target=\"_parent\"><img src=\"https://colab.research.google.com/assets/colab-badge.svg\" alt=\"Open In Colab\"/></a>"
      ]
    },
    {
      "cell_type": "markdown",
      "source": [],
      "metadata": {
        "id": "a4QPYBWGYNrc"
      }
    },
    {
      "cell_type": "markdown",
      "source": [
        "\n",
        "\n",
        "\n",
        "\n",
        "# Classification\n"
      ],
      "metadata": {
        "id": "m65ys0cCYORt"
      }
    },
    {
      "cell_type": "markdown",
      "metadata": {
        "id": "57126232"
      },
      "source": [
        "## Definition and Types\n",
        "\n",
        "***Classification*** is a technique used to classify data into different categories. The target variable is usually categorical, and classification is only performed in supervised learning.\n",
        "\n",
        "\n",
        "---\n",
        "\n",
        "\n",
        "### Types\n",
        "\n",
        "**Unary Classification**:\n",
        "This classification consists of only one class and mostly it is used to detect outliers.\n",
        "\n",
        "**Uses**: Fraud Detection, and for detecting variations in training and testing data\n",
        "\n",
        "\n",
        "---\n",
        "\n",
        "\n",
        "**Binary Classification**:\n",
        "Used when there are only two labels.\n",
        "\n",
        "Example: Churn Prediction, Image detection, Spam Emails etc.\n",
        "\n",
        "\n",
        "---\n",
        "\n",
        "\n",
        "**Multi-Class Classification**:\n",
        "We have more than two targets and the sample fits in only one target (category).\n",
        "\n",
        "Multi-class is done based on any of two strategies.\n",
        "\n",
        "* OVR - One vs Rest : We say that the sample is either A or BC\n",
        "* OVA - One vs One : We say sample is either A or B. then if B is selected then either B or C In this way we reach the target.\n",
        "\n",
        "-- We might use logistic regression in this technique.\n",
        "\n",
        "Remember : We select one of the two techniques based on accuracy metrics (f1 score, etc).\n",
        "\n",
        "\n",
        "---\n",
        "\n",
        "\n",
        "\n",
        "**Multi-label Classification**: Our sample can be categorized in multiple groups or labels.\n",
        "\n",
        "\n",
        "---\n",
        "\n",
        "\n",
        "**Imbalanced Classification**:\n",
        "\n",
        "When one class has much fewer samples than the other(s). A model may become biased toward the majority class, giving misleadingly high accuracy.\n",
        "\n",
        "**Solutions:**\n",
        "\n",
        "Resampling:\n",
        "\n",
        "Oversampling minority class (SMOTE, Random Oversampling).\n",
        "\n",
        "Undersampling majority class.\n",
        "\n",
        "Class weighting: Assign higher penalty to errors on minority class.\n",
        "\n",
        "Specialized algorithms: XGBoost, LightGBM, Random Forest with imbalance handling.\n",
        "\n",
        "Evaluation metrics: Use Precision, Recall, F1-score, ROC-AUC instead of plain accuracy.\n",
        "\n",
        "\n",
        "---\n",
        "\n",
        "\n",
        "**Ordinal Classification:**\n",
        "\n",
        "When classes are categorical but ordered. Unlike standard multi-class classification, the order between classes matters."
      ]
    },
    {
      "cell_type": "markdown",
      "source": [
        "# Algorithms\n",
        "\n"
      ],
      "metadata": {
        "id": "P29ZMirXkr64"
      }
    }
  ]
}